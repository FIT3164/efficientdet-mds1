{
 "cells": [
  {
   "cell_type": "code",
   "execution_count": null,
   "id": "2c725962",
   "metadata": {},
   "outputs": [],
   "source": [
    "import sys  \n",
    "import os\n",
    "sys.path.insert(0, os.path.join(os.path.abspath(os.getcwd()), \"..\"))\n",
    "\n",
    "import json\n",
    "import glob\n",
    "import cv2\n",
    "import matplotlib.pyplot as plt\n",
    "from tqdm import tqdm\n",
    "from utils import *"
   ]
  },
  {
   "cell_type": "code",
   "execution_count": null,
   "id": "213188ce",
   "metadata": {},
   "outputs": [],
   "source": [
    "CATEGORY_MAP = {\n",
    "    \"good_chili\": 1,\n",
    "    \"bad_chili\": 2\n",
    "}\n",
    "\n",
    "PROJECT_NAME = \"goodbadchili\"\n",
    "DESIRED_HEIGHT, DESIRED_WIDTH = 512, 512  # 288, 512\n",
    "FOLDER_NAME = \"train\""
   ]
  },
  {
   "cell_type": "code",
   "execution_count": null,
   "id": "4487b81c",
   "metadata": {},
   "outputs": [],
   "source": [
    "PROJECT_DATASET_DIR = os.path.join(os.path.abspath(os.getcwd()), \"..\", \"..\", \"datasets\", PROJECT_NAME)\n",
    "PASCALVOC_IMAGE_DIR = os.path.join(PROJECT_DATASET_DIR, FOLDER_NAME)\n",
    "\n",
    "img_paths = glob.glob(os.path.join(PASCALVOC_IMAGE_DIR, \"*.JPG\"))\n",
    "img_paths += glob.glob(os.path.join(PASCALVOC_IMAGE_DIR, \"*.jpg\"))"
   ]
  },
  {
   "cell_type": "code",
   "execution_count": null,
   "id": "9b6c7a3c",
   "metadata": {},
   "outputs": [],
   "source": [
    "def get_bbox(root, annotation_id, image_id, scale=1, padded_height=0):\n",
    "    res = []\n",
    "    for object in root.findall('object'):\n",
    "        lst = (float(object.find(\"bndbox\").find(pos).text) for pos in [\"xmin\", \"ymin\", \"xmax\", \"ymax\"])\n",
    "        [xmin, ymin, xmax, ymax] = [n//scale for n in lst]\n",
    "        ymin, ymax = ymin + padded_height, ymax + padded_height\n",
    "        quality = object.find(\"name\").text\n",
    "        res.append(Annotation(annotation_id, image_id, CATEGORY_MAP[quality], xmin, ymin, xmax, ymax).to_dict())\n",
    "        annotation_id += 1\n",
    "    return res, annotation_id"
   ]
  },
  {
   "cell_type": "code",
   "execution_count": null,
   "id": "436216da",
   "metadata": {},
   "outputs": [],
   "source": [
    "d = init_dict()\n",
    "annotation_id = 0\n",
    "fails, alt = [], []\n",
    "fail_flag = False\n",
    "for i, path in tqdm(enumerate(img_paths)):\n",
    "    try:\n",
    "        root = ET.parse(path.replace(\".jpg\", \".xml\").replace(\".JPG\", \".xml\")).getroot()\n",
    "        size = root.find('size')\n",
    "        image_height, image_width = int(size.find('height').text), int(size.find('width').text)\n",
    "        image, padded_height = pad_image(\n",
    "            cv2.resize(\n",
    "                cv2.imread(path),\n",
    "                (DESIRED_WIDTH, DESIRED_HEIGHT),\n",
    "                interpolation=cv2.INTER_AREA\n",
    "            ), DESIRED_HEIGHT, DESIRED_WIDTH\n",
    "        )\n",
    "        image_meta = Image(i, f\"{i}.jpg\").to_dict()\n",
    "        annotations, annotation_id = get_bbox(root, annotation_id, i, scale=image_width/DESIRED_WIDTH, padded_height=padded_height)\n",
    "        d[\"images\"].append(image_meta)\n",
    "        d[\"annotations\"].extend(annotations)\n",
    "        cv2.imwrite(os.path.join(PROJECT_DATASET_DIR, \"COCO\", FOLDER_NAME, f\"{i}.jpg\"), image)\n",
    "    except Exception as e:\n",
    "        if not fail_flag:\n",
    "            print(\"[Error]\", e)\n",
    "            fail_flag = True\n",
    "        fails.append((path, e))\n",
    "\n",
    "with open(os.path.join(PROJECT_DATASET_DIR, \"COCO\", \"annotations\", f\"instances_{FOLDER_NAME}.json\"), \"w\") as f:\n",
    "    json.dump(d, f, indent=4)"
   ]
  },
  {
   "cell_type": "code",
   "execution_count": null,
   "id": "eb43a7ea",
   "metadata": {},
   "outputs": [],
   "source": [
    "image_id = 336\n",
    "img = cv2.imread(os.path.join(PROJECT_DATASET_DIR, \"COCO\", FOLDER_NAME, f\"{image_id}.jpg\"))\n",
    "bbox = [x['bbox'] for x in d['annotations'] if x[\"image_id\"] == image_id]\n",
    "for bb in bbox:\n",
    "    plot_bbox(img, bb)"
   ]
  }
 ],
 "metadata": {
  "kernelspec": {
   "display_name": "pyml",
   "language": "python",
   "name": "pyml"
  },
  "language_info": {
   "codemirror_mode": {
    "name": "ipython",
    "version": 3
   },
   "file_extension": ".py",
   "mimetype": "text/x-python",
   "name": "python",
   "nbconvert_exporter": "python",
   "pygments_lexer": "ipython3",
   "version": "3.9.9"
  }
 },
 "nbformat": 4,
 "nbformat_minor": 5
}
