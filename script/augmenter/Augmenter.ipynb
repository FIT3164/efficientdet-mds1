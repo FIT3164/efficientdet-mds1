{
 "cells": [
  {
   "cell_type": "code",
   "execution_count": 25,
   "id": "e90aa4ad",
   "metadata": {},
   "outputs": [],
   "source": [
    "import sys  \n",
    "import os\n",
    "sys.path.insert(0, os.path.join(os.path.abspath(os.getcwd()), \"..\"))\n",
    "\n",
    "import json\n",
    "import glob\n",
    "import cv2\n",
    "import matplotlib.pyplot as plt\n",
    "import numpy as np\n",
    "from tqdm import tqdm\n",
    "from random import randint\n",
    "from utils import *"
   ]
  },
  {
   "cell_type": "code",
   "execution_count": 13,
   "id": "e0f3f0e2",
   "metadata": {},
   "outputs": [],
   "source": [
    "WIDTH = HEIGHT = 512\n",
    "PROJECT_NAME = \"goodbadchili\""
   ]
  },
  {
   "cell_type": "code",
   "execution_count": 17,
   "id": "38c5c01a",
   "metadata": {},
   "outputs": [],
   "source": [
    "PROJECT_DATASET_DIR = os.path.join(os.path.abspath(os.getcwd()), \"..\", \"..\", \"datasets\", PROJECT_NAME)\n",
    "JSON_PATH = os.path.join(PROJECT_DATASET_DIR, \"COCO\", \"annotations\", \"instances_train.json\")\n",
    "IMAGE_DIR = os.path.join(PROJECT_DATASET_DIR, \"COCO\", \"train\")\n",
    "IMAGE_PATHS = glob.glob(os.path.join(IMAGE_DIR, \"*.jpg\"))"
   ]
  },
  {
   "cell_type": "code",
   "execution_count": 14,
   "id": "890d01a2",
   "metadata": {},
   "outputs": [
    {
     "data": {
      "text/plain": [
       "'C:\\\\Users\\\\fabia\\\\github\\\\efficientdet-mds1\\\\script\\\\augmenter\\\\..\\\\..\\\\datasets\\\\goodbadchili'"
      ]
     },
     "execution_count": 14,
     "metadata": {},
     "output_type": "execute_result"
    }
   ],
   "source": [
    "d = json.load(open(JSON_PATH))\n",
    "id_to_annot = dict()\n",
    "for a in d[\"annotations\"]:\n",
    "\tid = a[\"image_id\"]\n",
    "\tif id in id_to_annot:\n",
    "\t\tid_to_annot[id].append(a)\n",
    "\telse:\n",
    "\t\tid_to_annot[id] = [a]"
   ]
  },
  {
   "cell_type": "code",
   "execution_count": null,
   "id": "27c1f0e9",
   "metadata": {},
   "outputs": [],
   "source": [
    "img_id = max(x[\"id\"] for x in d[\"images\"]) + 1\n",
    "annot_id = max(x[\"id\"] for x in d[\"annotations\"]) + 1\n",
    "for img_path in tqdm(IMAGE_PATHS):\n",
    "    current_id = int(img_path.split(os.sep)[-1].replace(\".jpg\", \"\"))\n",
    "    annot = id_to_annot[current_id]\n",
    "    img = cv2.imread(img_path)\n",
    "    if randint(1, 100) <= 55:\n",
    "        is_horizontal = (randint(1, 100) <= 55)\n",
    "        img = flip_img(img, is_horizontal=is_horizontal)\n",
    "        annot = [flip_point(Annotation.from_dict(a), current_id, a[\"id\"], is_horizontal=(1 if is_horizontal else 0), w=WIDTH, h=HEIGHT).to_dict() for a in annot]\n",
    "    for i in range(6):\n",
    "        rt_angle = randint(-30, 30)\n",
    "        rt_img = rotate_img(img, angle=rt_angle)\n",
    "        cv2.imwrite(os.path.join(IMAGE_DIR, f\"{img_id}.jpg\"), rt_img)\n",
    "        d[\"images\"].append(Image(img_id, f\"{img_id}.jpg\").to_dict())\n",
    "        for a in annot:\n",
    "            rt_annot = rotate_points(Annotation.from_dict(a), img_id, annot_id, angle=rt_angle, w=WIDTH, h=HEIGHT)\n",
    "            d[\"annotations\"].append(rt_annot.to_dict())\n",
    "            annot_id += 1\n",
    "        img_id += 1\n",
    "        \n",
    "with open(JSON_PATH, \"w\") as f:\n",
    "\tjson.dump(d, f, indent=4)"
   ]
  },
  {
   "cell_type": "code",
   "execution_count": null,
   "id": "6c613ecd",
   "metadata": {},
   "outputs": [],
   "source": [
    "id = 4269\n",
    "\n",
    "new_d = json.load(open(JSON_PATH))\n",
    "img = cv2.imread(os.path.join(IMAGE_DIR, f\"{id}.jpg\"))\n",
    "\n",
    "for bbox in [x[\"bbox\"] for x in new_d[\"annotations\"] if x[\"image_id\"] == id]:\n",
    "\tplot_bbox(img, bbox)"
   ]
  }
 ],
 "metadata": {
  "kernelspec": {
   "display_name": "pyml",
   "language": "python",
   "name": "pyml"
  },
  "language_info": {
   "codemirror_mode": {
    "name": "ipython",
    "version": 3
   },
   "file_extension": ".py",
   "mimetype": "text/x-python",
   "name": "python",
   "nbconvert_exporter": "python",
   "pygments_lexer": "ipython3",
   "version": "3.9.9"
  }
 },
 "nbformat": 4,
 "nbformat_minor": 5
}
