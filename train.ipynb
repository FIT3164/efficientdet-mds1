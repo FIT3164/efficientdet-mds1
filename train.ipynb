{
 "cells": [
  {
   "cell_type": "code",
   "execution_count": null,
   "id": "ba1190f2",
   "metadata": {},
   "outputs": [],
   "source": [
    "import os\n",
    "import cv2\n",
    "import torch\n",
    "import numpy as np\n",
    "import matplotlib.pyplot as plt\n",
    "from tqdm import tqdm\n",
    "from torch.utils.data import DataLoader\n",
    "from torchvision import transforms\n",
    "\n",
    "from efficientdet_arch.efficientdet.dataset import CocoDataset, Resizer, Normalizer, Augmenter, collater\n",
    "from efficientdet_arch.backbone import EfficientDetBackbone\n",
    "from efficientdet_arch.efficientdet.utils import BBoxTransform, ClipBoxes\n",
    "from efficientdet_arch.utils.utils import preprocess, postprocess, invert_affine, display\n",
    "from matplotlib.figure import Figure\n",
    "from matplotlib.backends.backend_agg import FigureCanvasAgg as FigureCanvas\n",
    "from helper import *  # including config"
   ]
  },
  {
   "cell_type": "code",
   "execution_count": null,
   "id": "e2e02562",
   "metadata": {},
   "outputs": [],
   "source": [
    "torch.cuda.is_available()"
   ]
  },
  {
   "cell_type": "code",
   "execution_count": null,
   "id": "abe45c6d",
   "metadata": {},
   "outputs": [],
   "source": [
    "INPUT_DIM = [512, 640, 768, 896, 1024, 1280, 1280, 1536, 1536]\n",
    "\n",
    "PROJECT_NAME = \"goodbadchili\"\n",
    "CLASSES = [\"good_chili\", \"bad_chili\"]\n",
    "EFFICIENTNET_COMPOUND_COEF = 0\n",
    "BATCH_SIZE = 32\n",
    "EPOCH_NUM = 5\n",
    "LEARNING_RATE = 1e-4\n",
    "OPTIMIZER = \"AdamW\"\n",
    "WEIGHT_PATH = f\"d{EFFICIENTNET_COMPOUND_COEF}-chili.pth\"\n",
    "ANCHOR_RATIOS=[(1.0, 0.7), (1.0, 1.0), (1.0, 1.5)]\n",
    "ANCHOR_SCALES=[2 ** 0, 2 ** (1.0 / 3.0), 2 ** (2.0 / 3.0)]"
   ]
  },
  {
   "cell_type": "code",
   "execution_count": null,
   "id": "497838f0",
   "metadata": {},
   "outputs": [],
   "source": [
    "DATASET_DIR = os.path.join(os.path.abspath(os.getcwd()), \"datasets\", PROJECT_NAME, \"COCO\")\n",
    "\n",
    "DEVICE = torch.device(\"cuda:0\" if torch.cuda.is_available() else \"cpu\")"
   ]
  },
  {
   "cell_type": "code",
   "execution_count": null,
   "id": "97a2162b",
   "metadata": {
    "scrolled": true
   },
   "outputs": [],
   "source": [
    "train_loader = DataLoader(\n",
    "    CocoDataset(\n",
    "        root_dir=DATASET_DIR, set=\"train\",\n",
    "        transform=transforms.Compose([\n",
    "            Normalizer(mean=CONFIG[\"mean\"], std=CONFIG[\"std\"]),\n",
    "            Augmenter(),\n",
    "            Resizer(INPUT_DIM[EFFICIENTNET_COMPOUND_COEF])\n",
    "        ])\n",
    "    ),\n",
    "    batch_size=BATCH_SIZE, shuffle=True, collate_fn=collater\n",
    ")"
   ]
  },
  {
   "cell_type": "code",
   "execution_count": null,
   "id": "ffcf32b9",
   "metadata": {},
   "outputs": [],
   "source": [
    "model = EfficientDetBackbone(num_classes=len(CLASSES), compound_coef=EFFICIENTNET_COMPOUND_COEF, ratios=ANCHOR_RATIOS, scales=ANCHOR_SCALES)\n",
    "try:\n",
    "    missing_keys, unexpected_keys = model.load_state_dict(torch.load(os.path.join(\"original_weights\", f\"efficientdet-d{EFFICIENTNET_COMPOUND_COEF}.pth\")), strict=False)\n",
    "except Exception as e:\n",
    "    print(e, \"(Omit)\")"
   ]
  },
  {
   "cell_type": "code",
   "execution_count": null,
   "id": "3d5e9945",
   "metadata": {},
   "outputs": [],
   "source": [
    "model.apply(freeze_backbone)\n",
    "model = ModelWrapper(model, debug=False)\n",
    "model.to(DEVICE)\n",
    "model.train()"
   ]
  },
  {
   "cell_type": "code",
   "execution_count": null,
   "id": "ef123967",
   "metadata": {},
   "outputs": [],
   "source": [
    "if OPTIMIZER == \"AdamW\":\n",
    "    optimizer = torch.optim.AdamW(model.parameters(), LEARNING_RATE)\n",
    "elif OPTIMIZER == \"SGD\":\n",
    "    optimizer = torch.optim.SGD(model.parameters(), LEARNING_RATE, momentum=0.9, nesterov=True)\n",
    "else:\n",
    "    raise Exception(\"Wrong Optimizer Option\")\n",
    "    \n",
    "scheduler = torch.optim.lr_scheduler.ReduceLROnPlateau(optimizer, patience=3, verbose=True)"
   ]
  },
  {
   "cell_type": "code",
   "execution_count": null,
   "id": "550c99a3",
   "metadata": {},
   "outputs": [],
   "source": [
    "for epoch in range(EPOCH_NUM):\n",
    "    epoch_loss = []\n",
    "    progress_bar = tqdm(train_loader)\n",
    "    for i, data in enumerate(progress_bar):\n",
    "        try:\n",
    "            imgs, annot = data['img'], data['annot']\n",
    "            imgs, annot = imgs.to(DEVICE), annot.to(DEVICE)\n",
    "\n",
    "            optimizer.zero_grad()\n",
    "            cls_loss, reg_loss = model(imgs, annot, obj_list=CLASSES)\n",
    "            cls_loss, reg_loss = cls_loss.mean(), reg_loss.mean()\n",
    "            loss = cls_loss + reg_loss\n",
    "\n",
    "            if loss == 0 or not torch.isfinite(loss):\n",
    "                continue\n",
    "\n",
    "            loss.backward()\n",
    "            optimizer.step()\n",
    "            epoch_loss.append(float(loss))\n",
    "            progress_bar.set_description(\n",
    "                f\"\"\"Epoch: {epoch}/{EPOCH_NUM} | Iteration: {i+1}/{len(train_loader)} | Cls loss: {cls_loss.item():.5f} | Reg loss: {reg_loss.item():.5f} | Total loss: {loss.item():.5f}\"\"\"\n",
    "            )\n",
    "        except ValueError as e:\n",
    "            print(f\"[Error] {e}\")\n",
    "    scheduler.step(np.mean(epoch_loss))\n",
    "\n",
    "torch.save(model.model.state_dict(), os.path.join(\"weights\", WEIGHT_PATH))"
   ]
  },
  {
   "cell_type": "code",
   "execution_count": null,
   "id": "1575b405",
   "metadata": {},
   "outputs": [],
   "source": [
    "epochs = range(1, len(epoch_loss)+1)\n",
    "\n",
    "plt.title('Loss vs Epoch')\n",
    "plt.xlabel('Epoch')\n",
    "plt.ylabel('Loss')\n",
    "plt.plot(epochs, epoch_loss)\n",
    "plt.show()"
   ]
  },
  {
   "cell_type": "code",
   "execution_count": null,
   "id": "275fe7ff",
   "metadata": {},
   "outputs": [],
   "source": [
    "fig = Figure(figsize=(18, 13))\n",
    "canvas = FigureCanvas(fig)\n",
    "ax = fig.add_subplot(1, 1, 1)\n",
    "ax.set_title('Loss vs Epoch')\n",
    "ax.set_xlabel('Epoch')\n",
    "ax.set_ylabel('Loss')\n",
    "ax.plot(epochs, epoch_loss)\n",
    "cv2.imwrite(os.path.join(\"LossGraphs\", f\"{WEIGHT_PATH[:-4]}.png\"), fig_to_image(fig))"
   ]
  }
 ],
 "metadata": {
  "kernelspec": {
   "display_name": "Python 3 (ipykernel)",
   "language": "python",
   "name": "python3"
  },
  "language_info": {
   "codemirror_mode": {
    "name": "ipython",
    "version": 3
   },
   "file_extension": ".py",
   "mimetype": "text/x-python",
   "name": "python",
   "nbconvert_exporter": "python",
   "pygments_lexer": "ipython3",
   "version": "3.10.4"
  }
 },
 "nbformat": 4,
 "nbformat_minor": 5
}
