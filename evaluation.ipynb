{
 "cells": [
  {
   "cell_type": "code",
   "execution_count": 6,
   "id": "f8b9242a",
   "metadata": {},
   "outputs": [],
   "source": [
    "import json\n",
    "import os\n",
    "\n",
    "import argparse\n",
    "import torch\n",
    "import yaml\n",
    "from helper import *\n",
    "from tqdm import tqdm\n",
    "from pycocotools.coco import COCO\n",
    "from pycocotools.cocoeval import COCOeval\n",
    "\n",
    "from efficientdet_arch.backbone import EfficientDetBackbone\n",
    "from efficientdet_arch.efficientdet.utils import BBoxTransform, ClipBoxes\n",
    "from efficientdet_arch.utils.utils import preprocess, invert_affine, postprocess, boolean_string"
   ]
  },
  {
   "cell_type": "code",
   "execution_count": 7,
   "id": "fc3d971e",
   "metadata": {},
   "outputs": [],
   "source": [
    "INPUT_DIM = [512, 640, 768, 896, 1024, 1280, 1280, 1536, 1536]\n",
    "\n",
    "PROJECT_NAME = \"goodbadchili\"\n",
    "CLASSES = [\"good_chili\", \"bad_chili\"]\n",
    "EFFICIENTNET_COMPOUND_COEF = 0\n",
    "WEIGHT_PATH = \"d0-chili-12E.pth\"\n",
    "ANCHOR_RATIOS=[(1.0, 0.7), (1.0, 1.0), (1.0, 1.5)]\n",
    "ANCHOR_SCALES=[2 ** 0, 2 ** (1.0 / 3.0), 2 ** (2.0 / 3.0)]\n",
    "\n",
    "THRESHOLD=0.05\n",
    "NMS_THRESHOLD=0.5"
   ]
  },
  {
   "cell_type": "code",
   "execution_count": null,
   "id": "1da07869",
   "metadata": {},
   "outputs": [],
   "source": [
    "PROJECT_DIR = os.path.join(os.path.abspath(os.getcwd()), \"datasets\", PROJECT_NAME, \"COCO\")\n",
    "RESULT_FNAME = f\"{WEIGHT_PATH[:-4]}_results.json\"\n",
    "ANNOTATION_PATH = os.path.join(PROJECT_DIR, \"annotations\", \"instances_test.json\")\n",
    "IMAGE_DIR = os.path.join(PROJECT_DIR, \"test\")\n",
    "COCO_INFO = COCO(ANNOTATION_PATH)\n",
    "IMAGE_IDS = COCO_INFO.getImgIds()[:10000]"
   ]
  },
  {
   "cell_type": "code",
   "execution_count": null,
   "id": "c288e84d",
   "metadata": {},
   "outputs": [],
   "source": [
    "model = EfficientDetBackbone(num_classes=len(CLASSES), compound_coef=EFFICIENTNET_COMPOUND_COEF, ratios=ANCHOR_RATIOS, scales=ANCHOR_SCALES)\n",
    "model.load_state_dict(torch.load(weights_path, map_location=torch.device('cpu')))\n",
    "model.requires_grad_(False)\n",
    "model.eval()\n",
    "model.cuda(\"cuda:0\")"
   ]
  },
  {
   "cell_type": "code",
   "execution_count": null,
   "id": "eab25c31",
   "metadata": {},
   "outputs": [],
   "source": [
    "results = []\n",
    "regressBoxes, clipBoxes = BBoxTransform(), ClipBoxes()\n",
    "for image_id in tqdm(IMAGE_IDS):\n",
    "    image_info = COCO_INFO.loadImgs(image_id)[0]\n",
    "    image_path = os.path.join(IMAGE_DIR, image_info['file_name'])\n",
    "    _, framed_imgs, framed_metas = preprocess(image_path, max_size=INPUT_DIM[EFFICIENTNET_COMPOUND_COEF], mean=CONFIG[\"mean\"], std=CONFIG[\"std\"])\n",
    "    x = torch.from_numpy(framed_imgs[0]).cuda(\"cuda:0\").float().unsqueeze(0).permute(0, 3, 1, 2)\n",
    "    _, regression, classification, anchors = model(x)\n",
    "    preds = postprocess(x, anchors, regression, classification, regressBoxes, clipBoxes, threshold, nms_threshold)\n",
    "    if not preds: continue\n",
    "    preds = invert_affine(framed_metas, preds)[0]\n",
    "    scores, class_ids, rois = preds['scores'], preds['class_ids'], preds['rois']\n",
    "    if rois.shape[0] > 0:   # x1,y1,x2,y2 -> x1,y1,w,h\n",
    "        rois[:, 2] -= rois[:, 0]\n",
    "        rois[:, 3] -= rois[:, 1]\n",
    "        bbox_score = scores\n",
    "        for roi_id in range(rois.shape[0]):\n",
    "            score, label, box = float(bbox_score[roi_id]), int(class_ids[roi_id]), rois[roi_id, :]\n",
    "            image_result = {\n",
    "                'image_id': image_id,\n",
    "                'category_id': label + 1,\n",
    "                'score': float(score),\n",
    "                'bbox': box.tolist(),\n",
    "            }\n",
    "            results.append(image_result)\n",
    "            \n",
    "if len(results) == 0:\n",
    "    raise Exception('Model does not produce any valid output, check model input')\n",
    "\n",
    "with open(os.path.join(os.path.abspath(os.getcwd()), RESULT_FNAME) as f:\n",
    "    json.dump(results, f, 'w'), indent=4)"
   ]
  },
  {
   "cell_type": "code",
   "execution_count": null,
   "id": "3c25f7b6",
   "metadata": {},
   "outputs": [],
   "source": [
    "coco_eval = COCOeval(COCO_INFO, COCO_INFO.loadRes(os.path.join(os.path.abspath(os.getcwd()), RESULT_FNAME)), 'bbox')\n",
    "coco_eval.params.imgIds = IMAGE_IDS\n",
    "coco_eval.evaluate()\n",
    "coco_eval.accumulate()\n",
    "coco_eval.summarize()"
   ]
  }
 ],
 "metadata": {
  "kernelspec": {
   "display_name": "pyml",
   "language": "python",
   "name": "pyml"
  },
  "language_info": {
   "codemirror_mode": {
    "name": "ipython",
    "version": 3
   },
   "file_extension": ".py",
   "mimetype": "text/x-python",
   "name": "python",
   "nbconvert_exporter": "python",
   "pygments_lexer": "ipython3",
   "version": "3.9.9"
  }
 },
 "nbformat": 4,
 "nbformat_minor": 5
}
